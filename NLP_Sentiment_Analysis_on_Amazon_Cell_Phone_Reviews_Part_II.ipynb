{
  "nbformat": 4,
  "nbformat_minor": 0,
  "metadata": {
    "kernelspec": {
      "display_name": "Python 3",
      "language": "python",
      "name": "python3"
    },
    "language_info": {
      "codemirror_mode": {
        "name": "ipython",
        "version": 3
      },
      "file_extension": ".py",
      "mimetype": "text/x-python",
      "name": "python",
      "nbconvert_exporter": "python",
      "pygments_lexer": "ipython3",
      "version": "3.6.8"
    },
    "colab": {
      "name": "NLP Sentiment Analysis on Amazon Cell Phone Reviews_Part II.ipynb",
      "provenance": [],
      "collapsed_sections": []
    }
  },
  "cells": [
    {
      "cell_type": "markdown",
      "metadata": {
        "id": "F0lmNtDcl3O8",
        "colab_type": "text"
      },
      "source": [
        "# **NLP Sentiment Analysis on Amazon Cell Phone Reviews**"
      ]
    },
    {
      "cell_type": "markdown",
      "metadata": {
        "id": "RO2VnJqzmddt",
        "colab_type": "text"
      },
      "source": [
        "#### Amazon Cell Phone Reviews contain 82,815 customer reviews from 2004 to Sep 2019. Data size is about 28 M. Most popular brands are Samsung and Apple, with the percentage of 50% and 13% respectively.  About 96% cell Phones sold by carries are renewed or refurbished models. Among all brands Xiaomi has the highest rating. Each review is for an item with brand name and a rating ranged from 1 to 5. So the dataset is a perfect candidate for NLP sentiment analysis. In this project I will implement CNN/LSTM/GRU neural neworks for the sentiment analysis on the reviews."
      ]
    },
    {
      "cell_type": "markdown",
      "metadata": {
        "id": "t5cw0TzYG7rN",
        "colab_type": "text"
      },
      "source": [
        "## **Part II. CNN/GRU Neural Networks for Sentiment Analysis**"
      ]
    },
    {
      "cell_type": "markdown",
      "metadata": {
        "id": "CZRsLxgqpkmp",
        "colab_type": "text"
      },
      "source": [
        "### **Load Preprocessed Data from Google Mount Drive** "
      ]
    },
    {
      "cell_type": "code",
      "metadata": {
        "colab_type": "code",
        "outputId": "9144cf36-3f85-4ea1-923e-f78283f2798e",
        "id": "eO1KVscn5KiC",
        "colab": {
          "base_uri": "https://localhost:8080/",
          "height": 126
        }
      },
      "source": [
        "from google.colab import drive\n",
        "drive.mount('/content/drive')"
      ],
      "execution_count": 1,
      "outputs": [
        {
          "output_type": "stream",
          "text": [
            "Go to this URL in a browser: https://accounts.google.com/o/oauth2/auth?client_id=947318989803-6bn6qk8qdgf4n4g3pfee6491hc0brc4i.apps.googleusercontent.com&redirect_uri=urn%3aietf%3awg%3aoauth%3a2.0%3aoob&response_type=code&scope=email%20https%3a%2f%2fwww.googleapis.com%2fauth%2fdocs.test%20https%3a%2f%2fwww.googleapis.com%2fauth%2fdrive%20https%3a%2f%2fwww.googleapis.com%2fauth%2fdrive.photos.readonly%20https%3a%2f%2fwww.googleapis.com%2fauth%2fpeopleapi.readonly\n",
            "\n",
            "Enter your authorization code:\n",
            "··········\n",
            "Mounted at /content/drive\n"
          ],
          "name": "stdout"
        }
      ]
    },
    {
      "cell_type": "code",
      "metadata": {
        "id": "Mkn8XVG5loeW",
        "colab_type": "code",
        "colab": {}
      },
      "source": [
        "import pandas as pd # data processing, CSV file I/O (e.g. pd.read_csv)\n",
        "path='/content/drive/My Drive/Data Sets/'\n",
        "reviews = pd.read_csv(path+\"reviews.csv\")"
      ],
      "execution_count": 0,
      "outputs": []
    },
    {
      "cell_type": "code",
      "metadata": {
        "id": "BQgHXzWxGdum",
        "colab_type": "code",
        "colab": {}
      },
      "source": [
        "reviews.clean_text=reviews.clean_text.astype(str)"
      ],
      "execution_count": 0,
      "outputs": []
    },
    {
      "cell_type": "markdown",
      "metadata": {
        "colab_type": "text",
        "id": "cFuBfqhBDF8p"
      },
      "source": [
        "### **Import sklearn, keras models, layers, etc.** "
      ]
    },
    {
      "cell_type": "code",
      "metadata": {
        "scrolled": true,
        "id": "qSWFTUxh__6p",
        "colab_type": "code",
        "outputId": "f999f594-11de-4c51-953e-821bc7ab098b",
        "colab": {
          "base_uri": "https://localhost:8080/",
          "height": 82
        }
      },
      "source": [
        "from sklearn.model_selection import learning_curve\n",
        "from sklearn.model_selection import train_test_split\n",
        "from sklearn.model_selection import StratifiedKFold\n",
        "\n",
        "import tensorflow as tf\n",
        "from keras import backend as K\n",
        "\n",
        "from keras.preprocessing import text, sequence\n",
        "from keras import optimizers\n",
        "from keras import layers\n",
        "from keras.models import Sequential\n",
        "from keras.layers import Dense, Dropout, Embedding, SpatialDropout1D, Conv1D, GRU, LSTM, MaxPooling1D, GlobalMaxPool1D\n",
        "from keras.layers.wrappers import Bidirectional\n",
        "from keras.optimizers import Adam\n",
        "import matplotlib.pyplot as plt\n",
        "import numpy as np\n",
        "import gc\n",
        "\n"
      ],
      "execution_count": 4,
      "outputs": [
        {
          "output_type": "display_data",
          "data": {
            "text/html": [
              "<p style=\"color: red;\">\n",
              "The default version of TensorFlow in Colab will soon switch to TensorFlow 2.x.<br>\n",
              "We recommend you <a href=\"https://www.tensorflow.org/guide/migrate\" target=\"_blank\">upgrade</a> now \n",
              "or ensure your notebook will continue to use TensorFlow 1.x via the <code>%tensorflow_version 1.x</code> magic:\n",
              "<a href=\"https://colab.research.google.com/notebooks/tensorflow_version.ipynb\" target=\"_blank\">more info</a>.</p>\n"
            ],
            "text/plain": [
              "<IPython.core.display.HTML object>"
            ]
          },
          "metadata": {
            "tags": []
          }
        },
        {
          "output_type": "stream",
          "text": [
            "Using TensorFlow backend.\n"
          ],
          "name": "stderr"
        }
      ]
    },
    {
      "cell_type": "markdown",
      "metadata": {
        "id": "03JmHmv5LbhX",
        "colab_type": "text"
      },
      "source": [
        "### **Using Glove.6B 200d Word Embedding**"
      ]
    },
    {
      "cell_type": "code",
      "metadata": {
        "id": "PLO-SHwpdBlD",
        "colab_type": "code",
        "colab": {}
      },
      "source": [
        "X=reviews['clean_text']\n",
        "y=reviews['class']"
      ],
      "execution_count": 0,
      "outputs": []
    },
    {
      "cell_type": "code",
      "metadata": {
        "id": "gHUxGtRy__-I",
        "colab_type": "code",
        "outputId": "c68b2e78-9a70-447c-d5af-be486f740acb",
        "colab": {
          "base_uri": "https://localhost:8080/",
          "height": 35
        }
      },
      "source": [
        "from sklearn.preprocessing import OneHotEncoder\n",
        "ohe = OneHotEncoder(categories='auto',sparse=False)\n",
        "ohe.fit(y.values.reshape(-1,1))\n",
        "max_len=200\n",
        "max_num_words=20000\n",
        "tokenizer = text.Tokenizer(num_words=max_num_words)\n",
        "tokenizer.fit_on_texts(X)\n",
        "\n",
        "X = tokenizer.texts_to_sequences(X)\n",
        "X = sequence.pad_sequences(X, maxlen = max_len).astype(np.int32)\n",
        "y = ohe.transform(y.values.reshape(-1,1)).astype(np.uint8)\n",
        "\n",
        "xtrain, xtest, ytrain, ytest = train_test_split(X, y, test_size=0.2, random_state=10)\n",
        "del X, y\n",
        "gc.collect()"
      ],
      "execution_count": 6,
      "outputs": [
        {
          "output_type": "execute_result",
          "data": {
            "text/plain": [
              "0"
            ]
          },
          "metadata": {
            "tags": []
          },
          "execution_count": 6
        }
      ]
    },
    {
      "cell_type": "code",
      "metadata": {
        "id": "QtMMTrVA__-L",
        "colab_type": "code",
        "colab": {}
      },
      "source": [
        "f= open('/content/drive/My Drive/Data Sets/glove.6B.200d.txt', 'r', encoding='utf-8')\n",
        "embeddings_index={}\n",
        "for line in f:\n",
        "    values = line.split()\n",
        "    word = values[0]\n",
        "    try:\n",
        "        coefs = np.asarray(values[1:], dtype='float32')\n",
        "        embeddings_index[word] = coefs\n",
        "    except ValueError:\n",
        "        pass\n",
        "f.close()\n",
        "\n",
        "word_index = tokenizer.word_index\n",
        "embedding_matrix = np.zeros((len(word_index) + 1, 200))\n",
        "for word, i in word_index.items():\n",
        "    embedding_vector = embeddings_index.get(word)\n",
        "    if embedding_vector is not None:\n",
        "        embedding_matrix[i] = embedding_vector"
      ],
      "execution_count": 0,
      "outputs": []
    },
    {
      "cell_type": "markdown",
      "metadata": {
        "id": "UxK0Jn7HMM_v",
        "colab_type": "text"
      },
      "source": [
        "### **Bidirectional GRU/Unidirectional GRU Neural Networks**"
      ]
    },
    {
      "cell_type": "markdown",
      "metadata": {
        "colab_type": "text",
        "id": "NRtaOro7Yr63"
      },
      "source": [
        "#### The model trained for total reviews. Train accuracy is 82.2%, test accuracy is 84.1%. The data categories 3 classes: Positive (rating 4 and 5), neutral (rating 3) and negative (rating 1 and 2) reviews. The negative reviews are larger than positive reviews, distributed in a narrow range from 0 to 0.2; However, the neutral reviews cover whole range from 0 to 1, and tend to more negative side; positive reviews also have a tail to negative side. This means that even the customer rating is 3, the review words are more negative; and positive rating also includes negative words. "
      ]
    },
    {
      "cell_type": "code",
      "metadata": {
        "scrolled": false,
        "id": "d2ObocGJ__-N",
        "colab_type": "code",
        "outputId": "2324c333-3150-49b7-ad80-6af6c75cf8ac",
        "colab": {
          "base_uri": "https://localhost:8080/",
          "height": 1000
        }
      },
      "source": [
        "nlabels=3\n",
        "\n",
        "model = Sequential()\n",
        "model.add(Embedding(len(word_index)+1,\n",
        "                           200,\n",
        "                           weights=[embedding_matrix],\n",
        "                           input_length=max_len,\n",
        "                           trainable=False))\n",
        "model.add(SpatialDropout1D(0.3))\n",
        "model.add(Bidirectional(GRU(128, dropout=0.3, recurrent_dropout=0.3, return_sequences=True)))\n",
        "model.add(GRU(128, dropout=0.3, recurrent_dropout=0.3))\n",
        "\n",
        "model.add(layers.Dense(512, activation='relu'))\n",
        "model.add(layers.Dropout(0.8))\n",
        "\n",
        "model.add(layers.Dense(nlabels, activation='softmax')) #'sigmoid'\n",
        "model.compile(loss='categorical_crossentropy',\n",
        "                optimizer='adam', \n",
        "                metrics=['acc'])\n",
        "model.summary()\n",
        "\n",
        "batch=512\n",
        "epoch=5\n",
        "\n",
        "history = model.fit(xtrain, ytrain,\n",
        "                    validation_split=0.2,\n",
        "                    epochs=epoch,\n",
        "                    batch_size=batch,\n",
        "                   verbose=1)\n",
        "score, acc = model.evaluate(xtest, ytest,\n",
        "                            batch_size=batch)\n",
        "model.save('gru_model.h5')\n",
        "\n"
      ],
      "execution_count": 8,
      "outputs": [
        {
          "output_type": "stream",
          "text": [
            "WARNING:tensorflow:From /usr/local/lib/python3.6/dist-packages/keras/backend/tensorflow_backend.py:66: The name tf.get_default_graph is deprecated. Please use tf.compat.v1.get_default_graph instead.\n",
            "\n",
            "WARNING:tensorflow:From /usr/local/lib/python3.6/dist-packages/keras/backend/tensorflow_backend.py:541: The name tf.placeholder is deprecated. Please use tf.compat.v1.placeholder instead.\n",
            "\n",
            "WARNING:tensorflow:From /usr/local/lib/python3.6/dist-packages/keras/backend/tensorflow_backend.py:4432: The name tf.random_uniform is deprecated. Please use tf.random.uniform instead.\n",
            "\n",
            "WARNING:tensorflow:From /usr/local/lib/python3.6/dist-packages/keras/backend/tensorflow_backend.py:190: The name tf.get_default_session is deprecated. Please use tf.compat.v1.get_default_session instead.\n",
            "\n",
            "WARNING:tensorflow:From /usr/local/lib/python3.6/dist-packages/keras/backend/tensorflow_backend.py:197: The name tf.ConfigProto is deprecated. Please use tf.compat.v1.ConfigProto instead.\n",
            "\n",
            "WARNING:tensorflow:From /usr/local/lib/python3.6/dist-packages/keras/backend/tensorflow_backend.py:203: The name tf.Session is deprecated. Please use tf.compat.v1.Session instead.\n",
            "\n",
            "WARNING:tensorflow:From /usr/local/lib/python3.6/dist-packages/keras/backend/tensorflow_backend.py:207: The name tf.global_variables is deprecated. Please use tf.compat.v1.global_variables instead.\n",
            "\n",
            "WARNING:tensorflow:From /usr/local/lib/python3.6/dist-packages/keras/backend/tensorflow_backend.py:216: The name tf.is_variable_initialized is deprecated. Please use tf.compat.v1.is_variable_initialized instead.\n",
            "\n",
            "WARNING:tensorflow:From /usr/local/lib/python3.6/dist-packages/keras/backend/tensorflow_backend.py:223: The name tf.variables_initializer is deprecated. Please use tf.compat.v1.variables_initializer instead.\n",
            "\n",
            "WARNING:tensorflow:From /usr/local/lib/python3.6/dist-packages/keras/backend/tensorflow_backend.py:148: The name tf.placeholder_with_default is deprecated. Please use tf.compat.v1.placeholder_with_default instead.\n",
            "\n",
            "WARNING:tensorflow:From /usr/local/lib/python3.6/dist-packages/keras/backend/tensorflow_backend.py:3733: calling dropout (from tensorflow.python.ops.nn_ops) with keep_prob is deprecated and will be removed in a future version.\n",
            "Instructions for updating:\n",
            "Please use `rate` instead of `keep_prob`. Rate should be set to `rate = 1 - keep_prob`.\n",
            "WARNING:tensorflow:Large dropout rate: 0.8 (>0.5). In TensorFlow 2.x, dropout() uses dropout rate instead of keep_prob. Please ensure that this is intended.\n",
            "WARNING:tensorflow:From /usr/local/lib/python3.6/dist-packages/keras/optimizers.py:793: The name tf.train.Optimizer is deprecated. Please use tf.compat.v1.train.Optimizer instead.\n",
            "\n",
            "WARNING:tensorflow:From /usr/local/lib/python3.6/dist-packages/keras/backend/tensorflow_backend.py:3576: The name tf.log is deprecated. Please use tf.math.log instead.\n",
            "\n",
            "Model: \"sequential_1\"\n",
            "_________________________________________________________________\n",
            "Layer (type)                 Output Shape              Param #   \n",
            "=================================================================\n",
            "embedding_1 (Embedding)      (None, 200, 200)          9112400   \n",
            "_________________________________________________________________\n",
            "spatial_dropout1d_1 (Spatial (None, 200, 200)          0         \n",
            "_________________________________________________________________\n",
            "bidirectional_1 (Bidirection (None, 200, 256)          252672    \n",
            "_________________________________________________________________\n",
            "gru_2 (GRU)                  (None, 128)               147840    \n",
            "_________________________________________________________________\n",
            "dense_1 (Dense)              (None, 512)               66048     \n",
            "_________________________________________________________________\n",
            "dropout_1 (Dropout)          (None, 512)               0         \n",
            "_________________________________________________________________\n",
            "dense_2 (Dense)              (None, 3)                 1539      \n",
            "=================================================================\n",
            "Total params: 9,580,499\n",
            "Trainable params: 468,099\n",
            "Non-trainable params: 9,112,400\n",
            "_________________________________________________________________\n",
            "WARNING:tensorflow:From /usr/local/lib/python3.6/dist-packages/tensorflow_core/python/ops/math_grad.py:1424: where (from tensorflow.python.ops.array_ops) is deprecated and will be removed in a future version.\n",
            "Instructions for updating:\n",
            "Use tf.where in 2.0, which has the same broadcast rule as np.where\n",
            "WARNING:tensorflow:From /usr/local/lib/python3.6/dist-packages/keras/backend/tensorflow_backend.py:1033: The name tf.assign_add is deprecated. Please use tf.compat.v1.assign_add instead.\n",
            "\n",
            "WARNING:tensorflow:From /usr/local/lib/python3.6/dist-packages/keras/backend/tensorflow_backend.py:1020: The name tf.assign is deprecated. Please use tf.compat.v1.assign instead.\n",
            "\n",
            "Train on 47258 samples, validate on 11815 samples\n",
            "Epoch 1/5\n",
            "47258/47258 [==============================] - 816s 17ms/step - loss: 0.6964 - acc: 0.7179 - val_loss: 0.5485 - val_acc: 0.7970\n",
            "Epoch 2/5\n",
            "47258/47258 [==============================] - 798s 17ms/step - loss: 0.5684 - acc: 0.7875 - val_loss: 0.4885 - val_acc: 0.8183\n",
            "Epoch 3/5\n",
            "47258/47258 [==============================] - 793s 17ms/step - loss: 0.5302 - acc: 0.8041 - val_loss: 0.4623 - val_acc: 0.8302\n",
            "Epoch 4/5\n",
            "47258/47258 [==============================] - 780s 17ms/step - loss: 0.5079 - acc: 0.8148 - val_loss: 0.4484 - val_acc: 0.8379\n",
            "Epoch 5/5\n",
            "47258/47258 [==============================] - 773s 16ms/step - loss: 0.4879 - acc: 0.8218 - val_loss: 0.4374 - val_acc: 0.8405\n",
            "14769/14769 [==============================] - 71s 5ms/step\n"
          ],
          "name": "stdout"
        }
      ]
    },
    {
      "cell_type": "code",
      "metadata": {
        "id": "EOh4680nSoe4",
        "colab_type": "code",
        "outputId": "488da5fc-6308-4b3c-b63d-f26a819be1b6",
        "colab": {
          "base_uri": "https://localhost:8080/",
          "height": 265
        }
      },
      "source": [
        "y_hat = model.predict_proba(xtest)\n",
        "plt.hist(y_hat)\n",
        "_ = plt.axvline(x=0.5, color='orange')"
      ],
      "execution_count": 9,
      "outputs": [
        {
          "output_type": "display_data",
          "data": {
            "image/png": "[encoded data removed]",
            "text/plain": [
              "<Figure size 432x288 with 1 Axes>"
            ]
          },
          "metadata": {
            "tags": []
          }
        }
      ]
    },
    {
      "cell_type": "code",
      "metadata": {
        "colab_type": "code",
        "outputId": "f3752896-dda2-4b97-cbf5-7031b47ce8c8",
        "id": "Le7q4x7MbW8v",
        "colab": {
          "base_uri": "https://localhost:8080/",
          "height": 682
        }
      },
      "source": [
        "plt.plot(history.history['acc'], color='red')\n",
        "plt.plot(history.history['val_acc'], color='blue')\n",
        "plt.xticks(np.arange(0, epoch + 1))\n",
        "plt.yticks(np.arange(0.3, 1, 0.1))\n",
        "plt.rcParams['figure.figsize'] = (10, 6)\n",
        "plt.xlabel(\"Epochs\")\n",
        "plt.ylabel(\"Accuracy\")\n",
        "plt.title(\"Training vs Validation Accuracy\")\n",
        "plt.legend(['train','validation'])\n",
        "plt.show()\n",
        "\n",
        "plt.plot(history.history['loss'], color='red')\n",
        "plt.plot(history.history['val_loss'], color='blue')\n",
        "plt.xticks(np.arange(0, epoch + 1))\n",
        "plt.rcParams['figure.figsize'] = (5, 3)\n",
        "plt.xlabel(\"Epochs\")\n",
        "plt.ylabel(\"Loss\")\n",
        "plt.title(\"Training vs Validation Loss\")\n",
        "plt.legend(['train','validation'])\n",
        "plt.show()"
      ],
      "execution_count": 10,
      "outputs": [
        {
          "output_type": "display_data",
          "data": {
            "image/png": "[encoded data removed]",
            "text/plain": [
              "<Figure size 432x288 with 1 Axes>"
            ]
          },
          "metadata": {
            "tags": []
          }
        },
        {
          "output_type": "display_data",
          "data": {
            "image/png": "[encoded data removed]",
            "text/plain": [
              "<Figure size 720x432 with 1 Axes>"
            ]
          },
          "metadata": {
            "tags": []
          }
        }
      ]
    },
    {
      "cell_type": "markdown",
      "metadata": {
        "id": "6GO3U1rBMk-i",
        "colab_type": "text"
      },
      "source": [
        "### **CNN/Bi-GRU Model for Total Reviews**"
      ]
    },
    {
      "cell_type": "markdown",
      "metadata": {
        "id": "HYTfCuR9wRPT",
        "colab_type": "text"
      },
      "source": [
        "### The model is a 1D CNN layer plus a Bidirectional GRU layer. The train time reduced about 60%. The result is similar to the first model, however, the train accuracy increased to 88.9% (+6.7%), test accuracy increased to 89.6% (+5.5%). The main reason of accuracy improvement is due to using Binary_Crossentropy as cost function. This can be understand that with pretrained Glove word embeddings, the review words are ranged from negative to positive, so the binary_crossentropy is better than categorical_crossentropy."
      ]
    },
    {
      "cell_type": "code",
      "metadata": {
        "scrolled": false,
        "colab_type": "code",
        "outputId": "984cda0f-857b-4817-b758-942af2533670",
        "id": "tV_sD6JwfqPv",
        "colab": {
          "base_uri": "https://localhost:8080/",
          "height": 730
        }
      },
      "source": [
        "nlabels=3\n",
        "\n",
        "model = Sequential()\n",
        "model.add(Embedding(len(word_index)+1,\n",
        "                           200,\n",
        "                           weights=[embedding_matrix],\n",
        "                           input_length=max_len,\n",
        "                           trainable=False))\n",
        "model.add(SpatialDropout1D(0.3))\n",
        "model.add(Conv1D(128, 5, activation='relu'))\n",
        "model.add(MaxPooling1D(pool_size=2))\n",
        "model.add(Bidirectional(GRU(128, dropout=0.3, recurrent_dropout=0.3)))\n",
        "model.add(layers.Dense(512, activation='relu'))\n",
        "model.add(layers.Dropout(0.8))\n",
        "\n",
        "model.add(layers.Dense(nlabels, activation='softmax')) #'sigmoid'\n",
        "model.compile(loss='binary_crossentropy',\n",
        "                optimizer='adam',\n",
        "                metrics=['acc'])\n",
        "model.summary()\n",
        "\n",
        "batch=512\n",
        "epoch=5\n",
        "\n",
        "history = model.fit(xtrain, ytrain,\n",
        "                    validation_split=0.2,\n",
        "                    epochs=epoch,\n",
        "                    batch_size=batch,\n",
        "                   verbose=1)\n",
        "                  \n",
        "score, acc = model.evaluate(xtest, ytest,\n",
        "                            batch_size=batch)\n",
        "model.save('cnn_gru_model.h5')\n",
        "\n"
      ],
      "execution_count": 11,
      "outputs": [
        {
          "output_type": "stream",
          "text": [
            "WARNING:tensorflow:From /usr/local/lib/python3.6/dist-packages/keras/backend/tensorflow_backend.py:4267: The name tf.nn.max_pool is deprecated. Please use tf.nn.max_pool2d instead.\n",
            "\n",
            "WARNING:tensorflow:Large dropout rate: 0.8 (>0.5). In TensorFlow 2.x, dropout() uses dropout rate instead of keep_prob. Please ensure that this is intended.\n",
            "Model: \"sequential_2\"\n",
            "_________________________________________________________________\n",
            "Layer (type)                 Output Shape              Param #   \n",
            "=================================================================\n",
            "embedding_2 (Embedding)      (None, 200, 200)          9112400   \n",
            "_________________________________________________________________\n",
            "spatial_dropout1d_2 (Spatial (None, 200, 200)          0         \n",
            "_________________________________________________________________\n",
            "conv1d_1 (Conv1D)            (None, 196, 128)          128128    \n",
            "_________________________________________________________________\n",
            "max_pooling1d_1 (MaxPooling1 (None, 98, 128)           0         \n",
            "_________________________________________________________________\n",
            "bidirectional_2 (Bidirection (None, 256)               197376    \n",
            "_________________________________________________________________\n",
            "dense_3 (Dense)              (None, 512)               131584    \n",
            "_________________________________________________________________\n",
            "dropout_2 (Dropout)          (None, 512)               0         \n",
            "_________________________________________________________________\n",
            "dense_4 (Dense)              (None, 3)                 1539      \n",
            "=================================================================\n",
            "Total params: 9,571,027\n",
            "Trainable params: 458,627\n",
            "Non-trainable params: 9,112,400\n",
            "_________________________________________________________________\n",
            "Train on 47258 samples, validate on 11815 samples\n",
            "Epoch 1/5\n",
            "47258/47258 [==============================] - 329s 7ms/step - loss: 0.4037 - acc: 0.8189 - val_loss: 0.3151 - val_acc: 0.8740\n",
            "Epoch 2/5\n",
            "47258/47258 [==============================] - 329s 7ms/step - loss: 0.3263 - acc: 0.8651 - val_loss: 0.2971 - val_acc: 0.8811\n",
            "Epoch 3/5\n",
            "47258/47258 [==============================] - 327s 7ms/step - loss: 0.3010 - acc: 0.8788 - val_loss: 0.2728 - val_acc: 0.8916\n",
            "Epoch 4/5\n",
            "47258/47258 [==============================] - 330s 7ms/step - loss: 0.2899 - acc: 0.8836 - val_loss: 0.2770 - val_acc: 0.8905\n",
            "Epoch 5/5\n",
            "47258/47258 [==============================] - 327s 7ms/step - loss: 0.2779 - acc: 0.8890 - val_loss: 0.2621 - val_acc: 0.8962\n",
            "14769/14769 [==============================] - 29s 2ms/step\n"
          ],
          "name": "stdout"
        }
      ]
    },
    {
      "cell_type": "code",
      "metadata": {
        "colab_type": "code",
        "outputId": "2f5ecdb7-d45a-4510-be55-c6f514fc34a3",
        "id": "ViuTJXm_f-Nk",
        "colab": {
          "base_uri": "https://localhost:8080/",
          "height": 211
        }
      },
      "source": [
        "y_hat = model.predict_proba(xtest)\n",
        "plt.hist(y_hat)\n",
        "_ = plt.axvline(x=0.5, color='orange')"
      ],
      "execution_count": 12,
      "outputs": [
        {
          "output_type": "display_data",
          "data": {
            "image/png": "[encoded data removed]",
            "text/plain": [
              "<Figure size 360x216 with 1 Axes>"
            ]
          },
          "metadata": {
            "tags": []
          }
        }
      ]
    },
    {
      "cell_type": "code",
      "metadata": {
        "colab_type": "code",
        "outputId": "4d0009e3-e4dd-48e0-8c71-72d85ce9dccc",
        "id": "L8x7bjXWcV-0",
        "colab": {
          "base_uri": "https://localhost:8080/",
          "height": 628
        }
      },
      "source": [
        "plt.plot(history.history['acc'], color='red')\n",
        "plt.plot(history.history['val_acc'], color='blue')\n",
        "plt.xticks(np.arange(0, epoch + 1))\n",
        "plt.yticks(np.arange(0.3, 1, 0.1))\n",
        "plt.rcParams['figure.figsize'] = (10, 6)\n",
        "plt.xlabel(\"Epochs\")\n",
        "plt.ylabel(\"Accuracy\")\n",
        "plt.title(\"Training vs Validation Accuracy\")\n",
        "plt.legend(['train','validation'])\n",
        "plt.show()\n",
        "\n",
        "plt.plot(history.history['loss'], color='red')\n",
        "plt.plot(history.history['val_loss'], color='blue')\n",
        "plt.xticks(np.arange(0, epoch + 1))\n",
        "plt.rcParams['figure.figsize'] = (5, 3)\n",
        "plt.xlabel(\"Epochs\")\n",
        "plt.ylabel(\"Loss\")\n",
        "plt.title(\"Training vs Validation Loss\")\n",
        "plt.legend(['train','validation'])\n",
        "plt.show()"
      ],
      "execution_count": 13,
      "outputs": [
        {
          "output_type": "display_data",
          "data": {
            "image/png": "[encoded data removed]",
            "text/plain": [
              "<Figure size 360x216 with 1 Axes>"
            ]
          },
          "metadata": {
            "tags": []
          }
        },
        {
          "output_type": "display_data",
          "data": {
            "image/png": "[encoded data removed]",
            "text/plain": [
              "<Figure size 720x432 with 1 Axes>"
            ]
          },
          "metadata": {
            "tags": []
          }
        }
      ]
    },
    {
      "cell_type": "markdown",
      "metadata": {
        "id": "OP7Xqxz4nmu-",
        "colab_type": "text"
      },
      "source": [
        "### **Train Samsung Reviews with CNN/GRU**"
      ]
    },
    {
      "cell_type": "markdown",
      "metadata": {
        "id": "vEAUsyFB4xxN",
        "colab_type": "text"
      },
      "source": [
        "#### About the 50% of reviews are from Samsung cell phones, so the result is similar to total reviews. Neutral class is more negative and has a tail to positive; positive class has a tail to negative. The train has no sign of overfitting. "
      ]
    },
    {
      "cell_type": "code",
      "metadata": {
        "id": "8_RFTv9Rn-Cr",
        "colab_type": "code",
        "colab": {}
      },
      "source": [
        "samsung = reviews[reviews[\"brand\"]==\"Samsung\"].sort_values(by=[\"date\"], ascending=False)"
      ],
      "execution_count": 0,
      "outputs": []
    },
    {
      "cell_type": "code",
      "metadata": {
        "id": "Kyc7D9eWpICr",
        "colab_type": "code",
        "outputId": "d31db320-f062-43cc-b1a9-b9729867dee2",
        "colab": {
          "base_uri": "https://localhost:8080/",
          "height": 35
        }
      },
      "source": [
        "samsung.shape"
      ],
      "execution_count": 15,
      "outputs": [
        {
          "output_type": "execute_result",
          "data": {
            "text/plain": [
              "(37526, 20)"
            ]
          },
          "metadata": {
            "tags": []
          },
          "execution_count": 15
        }
      ]
    },
    {
      "cell_type": "code",
      "metadata": {
        "colab_type": "code",
        "id": "jpIgsf3gnkxK",
        "colab": {}
      },
      "source": [
        "X=samsung['clean_text']\n",
        "y=samsung['class']"
      ],
      "execution_count": 0,
      "outputs": []
    },
    {
      "cell_type": "code",
      "metadata": {
        "colab_type": "code",
        "outputId": "1ed13c3b-2a2f-40de-b3af-85ad6c0d38da",
        "id": "E7NM-eeZqahh",
        "colab": {
          "base_uri": "https://localhost:8080/",
          "height": 35
        }
      },
      "source": [
        "from sklearn.preprocessing import OneHotEncoder\n",
        "ohe = OneHotEncoder(categories='auto',sparse=False)\n",
        "ohe.fit(y.values.reshape(-1,1))\n",
        "max_len=200\n",
        "max_num_words=20000\n",
        "tokenizer = text.Tokenizer(num_words=max_num_words)\n",
        "tokenizer.fit_on_texts(X)\n",
        "\n",
        "X = tokenizer.texts_to_sequences(X)\n",
        "X = sequence.pad_sequences(X, maxlen = 200).astype(np.int32)\n",
        "y = ohe.transform(y.values.reshape(-1,1)).astype(np.uint8)\n",
        "\n",
        "xtrain, xtest, ytrain, ytest = train_test_split(X, y, test_size=0.2, random_state=10)\n",
        "del X, y\n",
        "gc.collect()"
      ],
      "execution_count": 20,
      "outputs": [
        {
          "output_type": "execute_result",
          "data": {
            "text/plain": [
              "0"
            ]
          },
          "metadata": {
            "tags": []
          },
          "execution_count": 20
        }
      ]
    },
    {
      "cell_type": "code",
      "metadata": {
        "scrolled": false,
        "colab_type": "code",
        "outputId": "5f1bc4e3-0dde-4874-8bb6-3966b3efe77d",
        "id": "5Len0_KOq_S1",
        "colab": {
          "base_uri": "https://localhost:8080/",
          "height": 801
        }
      },
      "source": [
        "nlabels=3\n",
        "\n",
        "model = Sequential()\n",
        "model.add(layers.Embedding(len(word_index)+1,\n",
        "                           200,\n",
        "                           weights=[embedding_matrix],\n",
        "                           input_length=max_len,\n",
        "                           trainable=False))\n",
        "model.add(layers.SpatialDropout1D(0.3))\n",
        "model.add(Conv1D(128, 5, activation='relu'))\n",
        "model.add(MaxPooling1D(pool_size=2))\n",
        "model.add(Bidirectional(GRU(128, dropout=0.3, recurrent_dropout=0.3)))\n",
        "model.add(layers.Dense(512, activation='relu'))\n",
        "model.add(layers.Dropout(0.8))\n",
        "\n",
        "model.add(layers.Dense(nlabels, activation='softmax')) #'sigmoid'\n",
        "model.compile(loss='binary_crossentropy',\n",
        "                optimizer='adam', \n",
        "                metrics=['acc'])\n",
        "model.summary()\n",
        "\n",
        "batch=512\n",
        "epoch=8\n",
        "\n",
        "history = model.fit(xtrain, ytrain,\n",
        "                    validation_split=0.2,\n",
        "                    epochs=epoch,\n",
        "                    batch_size=batch,\n",
        "                   verbose=1)\n",
        "score, acc = model.evaluate(xtest, ytest,\n",
        "                            batch_size=batch)\n",
        "model.save('samsung_model.h5')\n",
        "\n"
      ],
      "execution_count": 21,
      "outputs": [
        {
          "output_type": "stream",
          "text": [
            "WARNING:tensorflow:Large dropout rate: 0.8 (>0.5). In TensorFlow 2.x, dropout() uses dropout rate instead of keep_prob. Please ensure that this is intended.\n",
            "Model: \"sequential_3\"\n",
            "_________________________________________________________________\n",
            "Layer (type)                 Output Shape              Param #   \n",
            "=================================================================\n",
            "embedding_3 (Embedding)      (None, 200, 200)          9112400   \n",
            "_________________________________________________________________\n",
            "spatial_dropout1d_3 (Spatial (None, 200, 200)          0         \n",
            "_________________________________________________________________\n",
            "conv1d_2 (Conv1D)            (None, 196, 128)          128128    \n",
            "_________________________________________________________________\n",
            "max_pooling1d_2 (MaxPooling1 (None, 98, 128)           0         \n",
            "_________________________________________________________________\n",
            "bidirectional_3 (Bidirection (None, 256)               197376    \n",
            "_________________________________________________________________\n",
            "dense_5 (Dense)              (None, 512)               131584    \n",
            "_________________________________________________________________\n",
            "dropout_3 (Dropout)          (None, 512)               0         \n",
            "_________________________________________________________________\n",
            "dense_6 (Dense)              (None, 3)                 1539      \n",
            "=================================================================\n",
            "Total params: 9,571,027\n",
            "Trainable params: 458,627\n",
            "Non-trainable params: 9,112,400\n",
            "_________________________________________________________________\n",
            "Train on 24016 samples, validate on 6004 samples\n",
            "Epoch 1/8\n",
            "24016/24016 [==============================] - 175s 7ms/step - loss: 0.4959 - acc: 0.7576 - val_loss: 0.4251 - val_acc: 0.7946\n",
            "Epoch 2/8\n",
            "24016/24016 [==============================] - 169s 7ms/step - loss: 0.4209 - acc: 0.8017 - val_loss: 0.3689 - val_acc: 0.8307\n",
            "Epoch 3/8\n",
            "24016/24016 [==============================] - 166s 7ms/step - loss: 0.3845 - acc: 0.8274 - val_loss: 0.3478 - val_acc: 0.8494\n",
            "Epoch 4/8\n",
            "24016/24016 [==============================] - 167s 7ms/step - loss: 0.3590 - acc: 0.8424 - val_loss: 0.3275 - val_acc: 0.8608\n",
            "Epoch 5/8\n",
            "24016/24016 [==============================] - 168s 7ms/step - loss: 0.3396 - acc: 0.8549 - val_loss: 0.3183 - val_acc: 0.8657\n",
            "Epoch 6/8\n",
            "24016/24016 [==============================] - 168s 7ms/step - loss: 0.3234 - acc: 0.8647 - val_loss: 0.3090 - val_acc: 0.8705\n",
            "Epoch 7/8\n",
            "24016/24016 [==============================] - 166s 7ms/step - loss: 0.3073 - acc: 0.8726 - val_loss: 0.3005 - val_acc: 0.8759\n",
            "Epoch 8/8\n",
            "24016/24016 [==============================] - 166s 7ms/step - loss: 0.2972 - acc: 0.8786 - val_loss: 0.2957 - val_acc: 0.8781\n",
            "7506/7506 [==============================] - 15s 2ms/step\n"
          ],
          "name": "stdout"
        }
      ]
    },
    {
      "cell_type": "code",
      "metadata": {
        "colab_type": "code",
        "outputId": "9102fd30-7472-4347-fe77-4e5dd4d01291",
        "id": "YH4abGEDrUgX",
        "colab": {
          "base_uri": "https://localhost:8080/",
          "height": 212
        }
      },
      "source": [
        "y_hat = model.predict_proba(xtest)\n",
        "plt.hist(y_hat)\n",
        "_ = plt.axvline(x=0.5, color='orange')"
      ],
      "execution_count": 22,
      "outputs": [
        {
          "output_type": "display_data",
          "data": {
            "image/png": "[encoded data removed]",
            "text/plain": [
              "<Figure size 360x216 with 1 Axes>"
            ]
          },
          "metadata": {
            "tags": []
          }
        }
      ]
    },
    {
      "cell_type": "code",
      "metadata": {
        "colab_type": "code",
        "outputId": "867a61ae-f788-40bb-f6f5-e318f33df33a",
        "id": "1oZSw-gCcy3-",
        "colab": {
          "base_uri": "https://localhost:8080/",
          "height": 628
        }
      },
      "source": [
        "plt.plot(history.history['acc'], color='red')\n",
        "plt.plot(history.history['val_acc'], color='blue')\n",
        "plt.xticks(np.arange(0, epoch + 1))\n",
        "plt.yticks(np.arange(0.3, 1, 0.1))\n",
        "plt.rcParams['figure.figsize'] = (10, 6)\n",
        "plt.xlabel(\"Epochs\")\n",
        "plt.ylabel(\"Accuracy\")\n",
        "plt.title(\"Training vs Validation Accuracy\")\n",
        "plt.legend(['train','validation'])\n",
        "plt.show()\n",
        "\n",
        "plt.plot(history.history['loss'], color='red')\n",
        "plt.plot(history.history['val_loss'], color='blue')\n",
        "plt.xticks(np.arange(0, epoch + 1))\n",
        "plt.rcParams['figure.figsize'] = (10, 6)\n",
        "plt.xlabel(\"Epochs\")\n",
        "plt.ylabel(\"Loss\")\n",
        "plt.title(\"Training vs Validation Loss\")\n",
        "plt.legend(['train','validation'])\n",
        "plt.show()"
      ],
      "execution_count": 23,
      "outputs": [
        {
          "output_type": "display_data",
          "data": {
            "image/png": "[encoded data removed]",
            "text/plain": [
              "<Figure size 360x216 with 1 Axes>"
            ]
          },
          "metadata": {
            "tags": []
          }
        },
        {
          "output_type": "display_data",
          "data": {
            "image/png": "[encoded data removed]",
            "text/plain": [
              "<Figure size 720x432 with 1 Axes>"
            ]
          },
          "metadata": {
            "tags": []
          }
        }
      ]
    },
    {
      "cell_type": "markdown",
      "metadata": {
        "id": "w6-qUGnpI1rD",
        "colab_type": "text"
      },
      "source": [
        "### **Train Apple Reviews with CNN/GRU**"
      ]
    },
    {
      "cell_type": "markdown",
      "metadata": {
        "id": "yKzVVygU6fhr",
        "colab_type": "text"
      },
      "source": [
        "#### The Apple reviews trainng result is similar to Samsung, no surprise. "
      ]
    },
    {
      "cell_type": "code",
      "metadata": {
        "colab_type": "code",
        "id": "AP06JlLY3V_T",
        "colab": {}
      },
      "source": [
        "apple = reviews[reviews[\"brand\"]==\"Apple\"].sort_values(by=[\"date\"], ascending=False)"
      ],
      "execution_count": 0,
      "outputs": []
    },
    {
      "cell_type": "code",
      "metadata": {
        "id": "muyA1z664Kmx",
        "colab_type": "code",
        "outputId": "884438b0-bcd3-4d4c-de13-ef46e909db02",
        "colab": {
          "base_uri": "https://localhost:8080/",
          "height": 35
        }
      },
      "source": [
        "apple.shape"
      ],
      "execution_count": 37,
      "outputs": [
        {
          "output_type": "execute_result",
          "data": {
            "text/plain": [
              "(10481, 20)"
            ]
          },
          "metadata": {
            "tags": []
          },
          "execution_count": 37
        }
      ]
    },
    {
      "cell_type": "code",
      "metadata": {
        "colab_type": "code",
        "id": "7IrCSyUQ4hXx",
        "colab": {}
      },
      "source": [
        "X=apple['clean_text']\n",
        "y=apple['class']"
      ],
      "execution_count": 0,
      "outputs": []
    },
    {
      "cell_type": "code",
      "metadata": {
        "colab_type": "code",
        "outputId": "369d8c8b-4c0e-4c91-d554-d2f10adbad33",
        "id": "5ljSffdF5CBN",
        "colab": {
          "base_uri": "https://localhost:8080/",
          "height": 35
        }
      },
      "source": [
        "from sklearn.preprocessing import OneHotEncoder\n",
        "ohe = OneHotEncoder(categories='auto',sparse=False)\n",
        "ohe.fit(y.values.reshape(-1,1))\n",
        "max_len=200\n",
        "max_num_words=5000\n",
        "tokenizer = text.Tokenizer(num_words=max_num_words)\n",
        "tokenizer.fit_on_texts(X)\n",
        "\n",
        "X = tokenizer.texts_to_sequences(X)\n",
        "X = sequence.pad_sequences(X, maxlen = 200).astype(np.int32)\n",
        "y = ohe.transform(y.values.reshape(-1,1)).astype(np.uint8)\n",
        "\n",
        "xtrain, xtest, ytrain, ytest = train_test_split(X, y, test_size=0.2, random_state=10)\n",
        "del X, y\n",
        "gc.collect()"
      ],
      "execution_count": 39,
      "outputs": [
        {
          "output_type": "execute_result",
          "data": {
            "text/plain": [
              "10208"
            ]
          },
          "metadata": {
            "tags": []
          },
          "execution_count": 39
        }
      ]
    },
    {
      "cell_type": "code",
      "metadata": {
        "scrolled": false,
        "colab_type": "code",
        "outputId": "51eeb31f-aac0-408b-861e-70be1805890a",
        "id": "xXSUpzHf5Syc",
        "colab": {
          "base_uri": "https://localhost:8080/",
          "height": 835
        }
      },
      "source": [
        "nlabels=3\n",
        "\n",
        "model = Sequential()\n",
        "model.add(layers.Embedding(len(word_index)+1,\n",
        "                           200,\n",
        "                           weights=[embedding_matrix],\n",
        "                           input_length=max_len,\n",
        "                           trainable=False))\n",
        "model.add(layers.SpatialDropout1D(0.3))\n",
        "model.add(Conv1D(128, 5, activation='relu'))\n",
        "model.add(MaxPooling1D(pool_size=2))\n",
        "model.add(Bidirectional(GRU(128, dropout=0.3, recurrent_dropout=0.3)))\n",
        "\n",
        "model.add(layers.Dense(512, activation='relu'))\n",
        "model.add(layers.Dropout(0.8))\n",
        "\n",
        "model.add(layers.Dense(nlabels, activation='softmax')) #'sigmoid'\n",
        "model.compile(loss='binary_crossentropy',\n",
        "                optimizer='adam',\n",
        "                metrics=['acc'])\n",
        "model.summary()\n",
        "\n",
        "batch=512\n",
        "epoch=10\n",
        "\n",
        "history = model.fit(xtrain, ytrain,\n",
        "                    validation_split=0.2,\n",
        "                    epochs=epoch,\n",
        "                    batch_size=batch,\n",
        "                   verbose=1)\n",
        "                   \n",
        "score, acc = model.evaluate(xtest, ytest,\n",
        "                            batch_size=batch)\n",
        "model.save('apple_model.h5')\n",
        "\n"
      ],
      "execution_count": 40,
      "outputs": [
        {
          "output_type": "stream",
          "text": [
            "Model: \"sequential_6\"\n",
            "_________________________________________________________________\n",
            "Layer (type)                 Output Shape              Param #   \n",
            "=================================================================\n",
            "embedding_6 (Embedding)      (None, 200, 200)          9112400   \n",
            "_________________________________________________________________\n",
            "spatial_dropout1d_6 (Spatial (None, 200, 200)          0         \n",
            "_________________________________________________________________\n",
            "conv1d_5 (Conv1D)            (None, 196, 128)          128128    \n",
            "_________________________________________________________________\n",
            "max_pooling1d_5 (MaxPooling1 (None, 98, 128)           0         \n",
            "_________________________________________________________________\n",
            "bidirectional_6 (Bidirection (None, 256)               197376    \n",
            "_________________________________________________________________\n",
            "dense_11 (Dense)             (None, 512)               131584    \n",
            "_________________________________________________________________\n",
            "dropout_6 (Dropout)          (None, 512)               0         \n",
            "_________________________________________________________________\n",
            "dense_12 (Dense)             (None, 3)                 1539      \n",
            "=================================================================\n",
            "Total params: 9,571,027\n",
            "Trainable params: 458,627\n",
            "Non-trainable params: 9,112,400\n",
            "_________________________________________________________________\n",
            "Train on 6707 samples, validate on 1677 samples\n",
            "Epoch 1/10\n",
            "6707/6707 [==============================] - 51s 8ms/step - loss: 0.5411 - acc: 0.7185 - val_loss: 0.4822 - val_acc: 0.7565\n",
            "Epoch 2/10\n",
            "6707/6707 [==============================] - 47s 7ms/step - loss: 0.4806 - acc: 0.7636 - val_loss: 0.4424 - val_acc: 0.7722\n",
            "Epoch 3/10\n",
            "6707/6707 [==============================] - 46s 7ms/step - loss: 0.4420 - acc: 0.7833 - val_loss: 0.4040 - val_acc: 0.8038\n",
            "Epoch 4/10\n",
            "6707/6707 [==============================] - 46s 7ms/step - loss: 0.4133 - acc: 0.8084 - val_loss: 0.3869 - val_acc: 0.8157\n",
            "Epoch 5/10\n",
            "6707/6707 [==============================] - 47s 7ms/step - loss: 0.3969 - acc: 0.8172 - val_loss: 0.3706 - val_acc: 0.8267\n",
            "Epoch 6/10\n",
            "6707/6707 [==============================] - 47s 7ms/step - loss: 0.3719 - acc: 0.8312 - val_loss: 0.3770 - val_acc: 0.8265\n",
            "Epoch 7/10\n",
            "6707/6707 [==============================] - 47s 7ms/step - loss: 0.3665 - acc: 0.8365 - val_loss: 0.3497 - val_acc: 0.8456\n",
            "Epoch 8/10\n",
            "6707/6707 [==============================] - 47s 7ms/step - loss: 0.3462 - acc: 0.8492 - val_loss: 0.3379 - val_acc: 0.8521\n",
            "Epoch 9/10\n",
            "6707/6707 [==============================] - 47s 7ms/step - loss: 0.3327 - acc: 0.8596 - val_loss: 0.3362 - val_acc: 0.8535\n",
            "Epoch 10/10\n",
            "6707/6707 [==============================] - 47s 7ms/step - loss: 0.3212 - acc: 0.8638 - val_loss: 0.3242 - val_acc: 0.8619\n",
            "2097/2097 [==============================] - 4s 2ms/step\n"
          ],
          "name": "stdout"
        }
      ]
    },
    {
      "cell_type": "code",
      "metadata": {
        "colab_type": "code",
        "outputId": "bfc1736a-8549-4441-914c-66cfc7cfdeab",
        "id": "4bcqF8KI5sXX",
        "colab": {
          "base_uri": "https://localhost:8080/",
          "height": 211
        }
      },
      "source": [
        "y_hat = model.predict_proba(xtest)\n",
        "plt.hist(y_hat)\n",
        "_ = plt.axvline(x=0.5, color='orange')"
      ],
      "execution_count": 41,
      "outputs": [
        {
          "output_type": "display_data",
          "data": {
            "image/png": "[encoded data removed]",
            "text/plain": [
              "<Figure size 360x216 with 1 Axes>"
            ]
          },
          "metadata": {
            "tags": []
          }
        }
      ]
    },
    {
      "cell_type": "code",
      "metadata": {
        "colab_type": "code",
        "outputId": "910cac13-858d-467d-cf8a-cd9f91db35ba",
        "id": "PJbt4NLAdipu",
        "colab": {
          "base_uri": "https://localhost:8080/",
          "height": 628
        }
      },
      "source": [
        "plt.plot(history.history['acc'], color='red')\n",
        "plt.plot(history.history['val_acc'], color='blue')\n",
        "plt.xticks(np.arange(0, epoch + 1))\n",
        "plt.yticks(np.arange(0.3, 1, 0.1))\n",
        "plt.rcParams['figure.figsize'] = (10, 6)\n",
        "plt.xlabel(\"Epochs\")\n",
        "plt.ylabel(\"Accuracy\")\n",
        "plt.title(\"Training vs Validation Accuracy\")\n",
        "plt.legend(['train','validation'])\n",
        "plt.show()\n",
        "\n",
        "plt.plot(history.history['loss'], color='red')\n",
        "plt.plot(history.history['val_loss'], color='blue')\n",
        "plt.xticks(np.arange(0, epoch + 1))\n",
        "plt.rcParams['figure.figsize'] = (10, 6)\n",
        "plt.xlabel(\"Epochs\")\n",
        "plt.ylabel(\"Loss\")\n",
        "plt.title(\"Training vs Validation Loss\")\n",
        "plt.legend(['train','validation'])\n",
        "plt.show()"
      ],
      "execution_count": 42,
      "outputs": [
        {
          "output_type": "display_data",
          "data": {
            "image/png": "[encoded data removed]",
            "text/plain": [
              "<Figure size 360x216 with 1 Axes>"
            ]
          },
          "metadata": {
            "tags": []
          }
        },
        {
          "output_type": "display_data",
          "data": {
            "image/png": "[encoded data removed]",
            "text/plain": [
              "<Figure size 720x432 with 1 Axes>"
            ]
          },
          "metadata": {
            "tags": []
          }
        }
      ]
    },
    {
      "cell_type": "markdown",
      "metadata": {
        "id": "pOVxTF2dJJ4J",
        "colab_type": "text"
      },
      "source": [
        "### **Train Xiaomi Reviews with CNN/GRU**"
      ]
    },
    {
      "cell_type": "markdown",
      "metadata": {
        "id": "k1cD3Aqh7Zhe",
        "colab_type": "text"
      },
      "source": [
        "#### Xiaomi cell phone reviews ranked number 1. The model training result is also different from others: positive class ranged from 0.5 to 1, no tail to negative side; neutral class overlapped with negative class, ranged from 0 to 0.2. "
      ]
    },
    {
      "cell_type": "code",
      "metadata": {
        "id": "lPJJYeXM8k10",
        "colab_type": "code",
        "outputId": "811c737a-a0ca-441a-c54d-dbb103670dbc",
        "colab": {
          "base_uri": "https://localhost:8080/",
          "height": 35
        }
      },
      "source": [
        "xiaomi = reviews[reviews[\"brand\"]==\"Xiaomi\"].sort_values(by=[\"date\"], ascending=False)\n",
        "xiaomi.shape"
      ],
      "execution_count": 43,
      "outputs": [
        {
          "output_type": "execute_result",
          "data": {
            "text/plain": [
              "(2214, 20)"
            ]
          },
          "metadata": {
            "tags": []
          },
          "execution_count": 43
        }
      ]
    },
    {
      "cell_type": "code",
      "metadata": {
        "colab_type": "code",
        "id": "6Dy-fATq9NHW",
        "colab": {}
      },
      "source": [
        "X=xiaomi['clean_text']\n",
        "y=xiaomi['class']"
      ],
      "execution_count": 0,
      "outputs": []
    },
    {
      "cell_type": "code",
      "metadata": {
        "colab_type": "code",
        "outputId": "77df8098-ac3e-44d2-dac2-823a73be07d8",
        "id": "zaK4YfYe9gGI",
        "colab": {
          "base_uri": "https://localhost:8080/",
          "height": 35
        }
      },
      "source": [
        "from sklearn.preprocessing import OneHotEncoder\n",
        "ohe = OneHotEncoder(categories='auto',sparse=False)\n",
        "ohe.fit(y.values.reshape(-1,1))\n",
        "max_len=200\n",
        "max_num_words=800\n",
        "tokenizer = text.Tokenizer(num_words=max_num_words)\n",
        "tokenizer.fit_on_texts(X)\n",
        "\n",
        "X = tokenizer.texts_to_sequences(X)\n",
        "X = sequence.pad_sequences(X, maxlen = 200).astype(np.int32)\n",
        "y = ohe.transform(y.values.reshape(-1,1)).astype(np.uint8)\n",
        "\n",
        "xtrain, xtest, ytrain, ytest = train_test_split(X, y, test_size=0.2, random_state=10)\n",
        "del X, y\n",
        "gc.collect()"
      ],
      "execution_count": 45,
      "outputs": [
        {
          "output_type": "execute_result",
          "data": {
            "text/plain": [
              "10356"
            ]
          },
          "metadata": {
            "tags": []
          },
          "execution_count": 45
        }
      ]
    },
    {
      "cell_type": "code",
      "metadata": {
        "scrolled": false,
        "colab_type": "code",
        "outputId": "2009383b-d22a-4b01-b1cc-ff74854a386b",
        "id": "XkE-n7Ez9qYS",
        "colab": {
          "base_uri": "https://localhost:8080/",
          "height": 835
        }
      },
      "source": [
        "nlabels=3\n",
        "\n",
        "model = Sequential()\n",
        "model.add(layers.Embedding(len(word_index)+1,\n",
        "                           200,\n",
        "                           weights=[embedding_matrix],\n",
        "                           input_length=max_len,\n",
        "                           trainable=False))\n",
        "model.add(layers.SpatialDropout1D(0.3))\n",
        "model.add(Conv1D(128, 5, activation='relu'))\n",
        "model.add(MaxPooling1D(pool_size=2))\n",
        "model.add(Bidirectional(GRU(128, dropout=0.3, recurrent_dropout=0.3)))\n",
        "\n",
        "model.add(layers.Dense(512, activation='relu'))\n",
        "model.add(layers.Dropout(0.8))\n",
        "\n",
        "model.add(layers.Dense(nlabels, activation='softmax')) #'sigmoid'\n",
        "model.compile(loss='binary_crossentropy',\n",
        "                optimizer='adam', \n",
        "                metrics=['acc'])\n",
        "model.summary()\n",
        "\n",
        "batch=512\n",
        "epoch=10\n",
        "\n",
        "history = model.fit(xtrain, ytrain,\n",
        "                    validation_split=0.2,\n",
        "                    epochs=epoch,\n",
        "                    batch_size=batch,\n",
        "                   verbose=1)\n",
        "                  \n",
        "score, acc = model.evaluate(xtest, ytest,\n",
        "                            batch_size=batch)\n",
        "model.save('xiomi_model.h5')\n",
        "\n"
      ],
      "execution_count": 46,
      "outputs": [
        {
          "output_type": "stream",
          "text": [
            "Model: \"sequential_7\"\n",
            "_________________________________________________________________\n",
            "Layer (type)                 Output Shape              Param #   \n",
            "=================================================================\n",
            "embedding_7 (Embedding)      (None, 200, 200)          9112400   \n",
            "_________________________________________________________________\n",
            "spatial_dropout1d_7 (Spatial (None, 200, 200)          0         \n",
            "_________________________________________________________________\n",
            "conv1d_6 (Conv1D)            (None, 196, 128)          128128    \n",
            "_________________________________________________________________\n",
            "max_pooling1d_6 (MaxPooling1 (None, 98, 128)           0         \n",
            "_________________________________________________________________\n",
            "bidirectional_7 (Bidirection (None, 256)               197376    \n",
            "_________________________________________________________________\n",
            "dense_13 (Dense)             (None, 512)               131584    \n",
            "_________________________________________________________________\n",
            "dropout_7 (Dropout)          (None, 512)               0         \n",
            "_________________________________________________________________\n",
            "dense_14 (Dense)             (None, 3)                 1539      \n",
            "=================================================================\n",
            "Total params: 9,571,027\n",
            "Trainable params: 458,627\n",
            "Non-trainable params: 9,112,400\n",
            "_________________________________________________________________\n",
            "Train on 1416 samples, validate on 355 samples\n",
            "Epoch 1/10\n",
            "1416/1416 [==============================] - 15s 11ms/step - loss: 0.5183 - acc: 0.7594 - val_loss: 0.4645 - val_acc: 0.8469\n",
            "Epoch 2/10\n",
            "1416/1416 [==============================] - 10s 7ms/step - loss: 0.4491 - acc: 0.8599 - val_loss: 0.4268 - val_acc: 0.8479\n",
            "Epoch 3/10\n",
            "1416/1416 [==============================] - 10s 7ms/step - loss: 0.4179 - acc: 0.8613 - val_loss: 0.4125 - val_acc: 0.8469\n",
            "Epoch 4/10\n",
            "1416/1416 [==============================] - 10s 7ms/step - loss: 0.4116 - acc: 0.8590 - val_loss: 0.3950 - val_acc: 0.8620\n",
            "Epoch 5/10\n",
            "1416/1416 [==============================] - 10s 7ms/step - loss: 0.3764 - acc: 0.8734 - val_loss: 0.3874 - val_acc: 0.8638\n",
            "Epoch 6/10\n",
            "1416/1416 [==============================] - 10s 7ms/step - loss: 0.3872 - acc: 0.8729 - val_loss: 0.3775 - val_acc: 0.8638\n",
            "Epoch 7/10\n",
            "1416/1416 [==============================] - 10s 7ms/step - loss: 0.3675 - acc: 0.8745 - val_loss: 0.3725 - val_acc: 0.8648\n",
            "Epoch 8/10\n",
            "1416/1416 [==============================] - 10s 7ms/step - loss: 0.3547 - acc: 0.8734 - val_loss: 0.3668 - val_acc: 0.8723\n",
            "Epoch 9/10\n",
            "1416/1416 [==============================] - 10s 7ms/step - loss: 0.3462 - acc: 0.8750 - val_loss: 0.3530 - val_acc: 0.8704\n",
            "Epoch 10/10\n",
            "1416/1416 [==============================] - 10s 7ms/step - loss: 0.3336 - acc: 0.8750 - val_loss: 0.3483 - val_acc: 0.8704\n",
            "443/443 [==============================] - 1s 2ms/step\n"
          ],
          "name": "stdout"
        }
      ]
    },
    {
      "cell_type": "code",
      "metadata": {
        "colab_type": "code",
        "outputId": "297c7db1-9f06-467c-eb18-0553af490412",
        "id": "XUyg2VTX-HQu",
        "colab": {
          "base_uri": "https://localhost:8080/",
          "height": 374
        }
      },
      "source": [
        "y_hat = model.predict_proba(xtest)\n",
        "plt.hist(y_hat)\n",
        "_ = plt.axvline(x=0.5, color='orange')"
      ],
      "execution_count": 47,
      "outputs": [
        {
          "output_type": "display_data",
          "data": {
            "image/png": "[encoded data removed]",
            "text/plain": [
              "<Figure size 720x432 with 1 Axes>"
            ]
          },
          "metadata": {
            "tags": []
          }
        }
      ]
    },
    {
      "cell_type": "code",
      "metadata": {
        "colab_type": "code",
        "outputId": "7fc1a8fc-565b-4819-b1eb-7c8707bc3441",
        "id": "kIKlaTBod4b2",
        "colab": {
          "base_uri": "https://localhost:8080/",
          "height": 791
        }
      },
      "source": [
        "plt.plot(history.history['acc'], color='red')\n",
        "plt.plot(history.history['val_acc'], color='blue')\n",
        "plt.xticks(np.arange(0, epoch + 1))\n",
        "plt.yticks(np.arange(0.3, 1, 0.1))\n",
        "plt.rcParams['figure.figsize'] = (10, 6)\n",
        "plt.xlabel(\"Epochs\")\n",
        "plt.ylabel(\"Accuracy\")\n",
        "plt.title(\"Training vs Validation Accuracy\")\n",
        "plt.legend(['train','validation'])\n",
        "plt.show()\n",
        "\n",
        "plt.plot(history.history['loss'], color='red')\n",
        "plt.plot(history.history['val_loss'], color='blue')\n",
        "plt.xticks(np.arange(0, epoch + 1))\n",
        "plt.rcParams['figure.figsize'] = (5, 3)\n",
        "plt.xlabel(\"Epochs\")\n",
        "plt.ylabel(\"Loss\")\n",
        "plt.title(\"Training vs Validation Loss\")\n",
        "plt.legend(['train','validation'])\n",
        "plt.show()"
      ],
      "execution_count": 48,
      "outputs": [
        {
          "output_type": "display_data",
          "data": {
            "image/png": "[encoded data removed]",
            "text/plain": [
              "<Figure size 720x432 with 1 Axes>"
            ]
          },
          "metadata": {
            "tags": []
          }
        },
        {
          "output_type": "display_data",
          "data": {
            "image/png": "[encoded data removed]",
            "text/plain": [
              "<Figure size 720x432 with 1 Axes>"
            ]
          },
          "metadata": {
            "tags": []
          }
        }
      ]
    }
  ]
}